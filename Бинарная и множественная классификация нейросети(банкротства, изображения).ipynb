{
 "cells": [
  {
   "cell_type": "code",
   "execution_count": 35,
   "id": "e7c9d7c9",
   "metadata": {},
   "outputs": [],
   "source": [
    "import pandas as pd\n",
    "import numpy as np\n",
    "import scipy\n",
    "\n",
    "#sklearn\n",
    "from sklearn.model_selection import train_test_split\n",
    "from sklearn.preprocessing import LabelEncoder\n",
    "from sklearn.metrics import accuracy_score\n",
    "#глубокое обучение\n",
    "from tensorflow.keras import Sequential\n",
    "from tensorflow.keras.layers import Dense\n",
    "\n",
    "from matplotlib import pyplot\n",
    "\n",
    "%matplotlib inline\n"
   ]
  },
  {
   "cell_type": "code",
   "execution_count": 36,
   "id": "276cc76a",
   "metadata": {},
   "outputs": [],
   "source": [
    "#загрузка данных\n",
    "path='https://raw.githubusercontent.com/jbrownlee/Datasets/master/banknote_authentication.csv'"
   ]
  },
  {
   "cell_type": "code",
   "execution_count": 37,
   "id": "7b8c80c0",
   "metadata": {},
   "outputs": [
    {
     "data": {
      "text/html": [
       "<div>\n",
       "<style scoped>\n",
       "    .dataframe tbody tr th:only-of-type {\n",
       "        vertical-align: middle;\n",
       "    }\n",
       "\n",
       "    .dataframe tbody tr th {\n",
       "        vertical-align: top;\n",
       "    }\n",
       "\n",
       "    .dataframe thead th {\n",
       "        text-align: right;\n",
       "    }\n",
       "</style>\n",
       "<table border=\"1\" class=\"dataframe\">\n",
       "  <thead>\n",
       "    <tr style=\"text-align: right;\">\n",
       "      <th></th>\n",
       "      <th>0</th>\n",
       "      <th>1</th>\n",
       "      <th>2</th>\n",
       "      <th>3</th>\n",
       "      <th>4</th>\n",
       "    </tr>\n",
       "  </thead>\n",
       "  <tbody>\n",
       "    <tr>\n",
       "      <th>0</th>\n",
       "      <td>3.62160</td>\n",
       "      <td>8.6661</td>\n",
       "      <td>-2.8073</td>\n",
       "      <td>-0.44699</td>\n",
       "      <td>0</td>\n",
       "    </tr>\n",
       "    <tr>\n",
       "      <th>1</th>\n",
       "      <td>4.54590</td>\n",
       "      <td>8.1674</td>\n",
       "      <td>-2.4586</td>\n",
       "      <td>-1.46210</td>\n",
       "      <td>0</td>\n",
       "    </tr>\n",
       "    <tr>\n",
       "      <th>2</th>\n",
       "      <td>3.86600</td>\n",
       "      <td>-2.6383</td>\n",
       "      <td>1.9242</td>\n",
       "      <td>0.10645</td>\n",
       "      <td>0</td>\n",
       "    </tr>\n",
       "    <tr>\n",
       "      <th>3</th>\n",
       "      <td>3.45660</td>\n",
       "      <td>9.5228</td>\n",
       "      <td>-4.0112</td>\n",
       "      <td>-3.59440</td>\n",
       "      <td>0</td>\n",
       "    </tr>\n",
       "    <tr>\n",
       "      <th>4</th>\n",
       "      <td>0.32924</td>\n",
       "      <td>-4.4552</td>\n",
       "      <td>4.5718</td>\n",
       "      <td>-0.98880</td>\n",
       "      <td>0</td>\n",
       "    </tr>\n",
       "  </tbody>\n",
       "</table>\n",
       "</div>"
      ],
      "text/plain": [
       "         0       1       2        3  4\n",
       "0  3.62160  8.6661 -2.8073 -0.44699  0\n",
       "1  4.54590  8.1674 -2.4586 -1.46210  0\n",
       "2  3.86600 -2.6383  1.9242  0.10645  0\n",
       "3  3.45660  9.5228 -4.0112 -3.59440  0\n",
       "4  0.32924 -4.4552  4.5718 -0.98880  0"
      ]
     },
     "execution_count": 37,
     "metadata": {},
     "output_type": "execute_result"
    }
   ],
   "source": [
    "df = pd.read_csv(path, header = None)\n",
    "df.head()"
   ]
  },
  {
   "cell_type": "code",
   "execution_count": 38,
   "id": "cf15b569",
   "metadata": {},
   "outputs": [
    {
     "data": {
      "text/html": [
       "<div>\n",
       "<style scoped>\n",
       "    .dataframe tbody tr th:only-of-type {\n",
       "        vertical-align: middle;\n",
       "    }\n",
       "\n",
       "    .dataframe tbody tr th {\n",
       "        vertical-align: top;\n",
       "    }\n",
       "\n",
       "    .dataframe thead th {\n",
       "        text-align: right;\n",
       "    }\n",
       "</style>\n",
       "<table border=\"1\" class=\"dataframe\">\n",
       "  <thead>\n",
       "    <tr style=\"text-align: right;\">\n",
       "      <th></th>\n",
       "      <th>0</th>\n",
       "      <th>1</th>\n",
       "      <th>2</th>\n",
       "      <th>3</th>\n",
       "      <th>4</th>\n",
       "    </tr>\n",
       "  </thead>\n",
       "  <tbody>\n",
       "    <tr>\n",
       "      <th>count</th>\n",
       "      <td>1372.000000</td>\n",
       "      <td>1372.000000</td>\n",
       "      <td>1372.000000</td>\n",
       "      <td>1372.000000</td>\n",
       "      <td>1372.000000</td>\n",
       "    </tr>\n",
       "    <tr>\n",
       "      <th>mean</th>\n",
       "      <td>0.433735</td>\n",
       "      <td>1.922353</td>\n",
       "      <td>1.397627</td>\n",
       "      <td>-1.191657</td>\n",
       "      <td>0.444606</td>\n",
       "    </tr>\n",
       "    <tr>\n",
       "      <th>std</th>\n",
       "      <td>2.842763</td>\n",
       "      <td>5.869047</td>\n",
       "      <td>4.310030</td>\n",
       "      <td>2.101013</td>\n",
       "      <td>0.497103</td>\n",
       "    </tr>\n",
       "    <tr>\n",
       "      <th>min</th>\n",
       "      <td>-7.042100</td>\n",
       "      <td>-13.773100</td>\n",
       "      <td>-5.286100</td>\n",
       "      <td>-8.548200</td>\n",
       "      <td>0.000000</td>\n",
       "    </tr>\n",
       "    <tr>\n",
       "      <th>25%</th>\n",
       "      <td>-1.773000</td>\n",
       "      <td>-1.708200</td>\n",
       "      <td>-1.574975</td>\n",
       "      <td>-2.413450</td>\n",
       "      <td>0.000000</td>\n",
       "    </tr>\n",
       "    <tr>\n",
       "      <th>50%</th>\n",
       "      <td>0.496180</td>\n",
       "      <td>2.319650</td>\n",
       "      <td>0.616630</td>\n",
       "      <td>-0.586650</td>\n",
       "      <td>0.000000</td>\n",
       "    </tr>\n",
       "    <tr>\n",
       "      <th>75%</th>\n",
       "      <td>2.821475</td>\n",
       "      <td>6.814625</td>\n",
       "      <td>3.179250</td>\n",
       "      <td>0.394810</td>\n",
       "      <td>1.000000</td>\n",
       "    </tr>\n",
       "    <tr>\n",
       "      <th>max</th>\n",
       "      <td>6.824800</td>\n",
       "      <td>12.951600</td>\n",
       "      <td>17.927400</td>\n",
       "      <td>2.449500</td>\n",
       "      <td>1.000000</td>\n",
       "    </tr>\n",
       "  </tbody>\n",
       "</table>\n",
       "</div>"
      ],
      "text/plain": [
       "                 0            1            2            3            4\n",
       "count  1372.000000  1372.000000  1372.000000  1372.000000  1372.000000\n",
       "mean      0.433735     1.922353     1.397627    -1.191657     0.444606\n",
       "std       2.842763     5.869047     4.310030     2.101013     0.497103\n",
       "min      -7.042100   -13.773100    -5.286100    -8.548200     0.000000\n",
       "25%      -1.773000    -1.708200    -1.574975    -2.413450     0.000000\n",
       "50%       0.496180     2.319650     0.616630    -0.586650     0.000000\n",
       "75%       2.821475     6.814625     3.179250     0.394810     1.000000\n",
       "max       6.824800    12.951600    17.927400     2.449500     1.000000"
      ]
     },
     "execution_count": 38,
     "metadata": {},
     "output_type": "execute_result"
    }
   ],
   "source": [
    "# смотрим что загрузилось\n",
    "df.describe()"
   ]
  },
  {
   "cell_type": "code",
   "execution_count": 39,
   "id": "fa38b92d",
   "metadata": {},
   "outputs": [
    {
     "data": {
      "text/html": [
       "<div>\n",
       "<style scoped>\n",
       "    .dataframe tbody tr th:only-of-type {\n",
       "        vertical-align: middle;\n",
       "    }\n",
       "\n",
       "    .dataframe tbody tr th {\n",
       "        vertical-align: top;\n",
       "    }\n",
       "\n",
       "    .dataframe thead th {\n",
       "        text-align: right;\n",
       "    }\n",
       "</style>\n",
       "<table border=\"1\" class=\"dataframe\">\n",
       "  <thead>\n",
       "    <tr style=\"text-align: right;\">\n",
       "      <th></th>\n",
       "      <th>0</th>\n",
       "      <th>1</th>\n",
       "      <th>2</th>\n",
       "      <th>3</th>\n",
       "      <th>4</th>\n",
       "    </tr>\n",
       "  </thead>\n",
       "  <tbody>\n",
       "    <tr>\n",
       "      <th>0</th>\n",
       "      <td>1.000000</td>\n",
       "      <td>0.264026</td>\n",
       "      <td>-0.380850</td>\n",
       "      <td>0.276817</td>\n",
       "      <td>-0.724843</td>\n",
       "    </tr>\n",
       "    <tr>\n",
       "      <th>1</th>\n",
       "      <td>0.264026</td>\n",
       "      <td>1.000000</td>\n",
       "      <td>-0.786895</td>\n",
       "      <td>-0.526321</td>\n",
       "      <td>-0.444688</td>\n",
       "    </tr>\n",
       "    <tr>\n",
       "      <th>2</th>\n",
       "      <td>-0.380850</td>\n",
       "      <td>-0.786895</td>\n",
       "      <td>1.000000</td>\n",
       "      <td>0.318841</td>\n",
       "      <td>0.155883</td>\n",
       "    </tr>\n",
       "    <tr>\n",
       "      <th>3</th>\n",
       "      <td>0.276817</td>\n",
       "      <td>-0.526321</td>\n",
       "      <td>0.318841</td>\n",
       "      <td>1.000000</td>\n",
       "      <td>-0.023424</td>\n",
       "    </tr>\n",
       "    <tr>\n",
       "      <th>4</th>\n",
       "      <td>-0.724843</td>\n",
       "      <td>-0.444688</td>\n",
       "      <td>0.155883</td>\n",
       "      <td>-0.023424</td>\n",
       "      <td>1.000000</td>\n",
       "    </tr>\n",
       "  </tbody>\n",
       "</table>\n",
       "</div>"
      ],
      "text/plain": [
       "          0         1         2         3         4\n",
       "0  1.000000  0.264026 -0.380850  0.276817 -0.724843\n",
       "1  0.264026  1.000000 -0.786895 -0.526321 -0.444688\n",
       "2 -0.380850 -0.786895  1.000000  0.318841  0.155883\n",
       "3  0.276817 -0.526321  0.318841  1.000000 -0.023424\n",
       "4 -0.724843 -0.444688  0.155883 -0.023424  1.000000"
      ]
     },
     "execution_count": 39,
     "metadata": {},
     "output_type": "execute_result"
    }
   ],
   "source": [
    "# коррелляция\n",
    "df.corr()"
   ]
  },
  {
   "cell_type": "code",
   "execution_count": 40,
   "id": "1cb94449",
   "metadata": {},
   "outputs": [
    {
     "name": "stdout",
     "output_type": "stream",
     "text": [
      "<class 'pandas.core.frame.DataFrame'>\n",
      "RangeIndex: 1372 entries, 0 to 1371\n",
      "Data columns (total 5 columns):\n",
      " #   Column  Non-Null Count  Dtype  \n",
      "---  ------  --------------  -----  \n",
      " 0   0       1372 non-null   float64\n",
      " 1   1       1372 non-null   float64\n",
      " 2   2       1372 non-null   float64\n",
      " 3   3       1372 non-null   float64\n",
      " 4   4       1372 non-null   int64  \n",
      "dtypes: float64(4), int64(1)\n",
      "memory usage: 53.7 KB\n"
     ]
    }
   ],
   "source": [
    "# общая информация\n",
    "df.info()"
   ]
  },
  {
   "cell_type": "code",
   "execution_count": 41,
   "id": "5de1100b",
   "metadata": {},
   "outputs": [
    {
     "data": {
      "text/plain": [
       "0    762\n",
       "1    610\n",
       "Name: 4, dtype: int64"
      ]
     },
     "execution_count": 41,
     "metadata": {},
     "output_type": "execute_result"
    }
   ],
   "source": [
    "# распределение значений\n",
    "df[4].value_counts()"
   ]
  },
  {
   "cell_type": "code",
   "execution_count": 42,
   "id": "ca34b018",
   "metadata": {},
   "outputs": [],
   "source": [
    "#создание выборки X и y\n",
    "X, y = df.values[:, : -1], df.values[:,  -1]\n"
   ]
  },
  {
   "cell_type": "code",
   "execution_count": 43,
   "id": "3ed9af3d",
   "metadata": {},
   "outputs": [],
   "source": [
    "X = X.astype('float32')# приводим значение к float"
   ]
  },
  {
   "cell_type": "code",
   "execution_count": 44,
   "id": "5af55300",
   "metadata": {},
   "outputs": [
    {
     "data": {
      "text/plain": [
       "array([ 4.5459,  8.1674, -2.4586, -1.4621], dtype=float32)"
      ]
     },
     "execution_count": 44,
     "metadata": {},
     "output_type": "execute_result"
    }
   ],
   "source": [
    "X[1]"
   ]
  },
  {
   "cell_type": "code",
   "execution_count": 45,
   "id": "8e4b85a2",
   "metadata": {},
   "outputs": [
    {
     "data": {
      "text/plain": [
       "0.0"
      ]
     },
     "execution_count": 45,
     "metadata": {},
     "output_type": "execute_result"
    }
   ],
   "source": [
    "y[1]"
   ]
  },
  {
   "cell_type": "code",
   "execution_count": 46,
   "id": "dcdccfaa",
   "metadata": {},
   "outputs": [],
   "source": [
    "#LabelEncoder для y\n",
    "y = LabelEncoder().fit_transform(y)"
   ]
  },
  {
   "cell_type": "code",
   "execution_count": 47,
   "id": "b95f4fcc",
   "metadata": {},
   "outputs": [],
   "source": [
    "#train_test_split\n",
    "X_train, X_test, y_train, y_test = train_test_split(X, y, test_size = 0.25, shuffle = True )"
   ]
  },
  {
   "cell_type": "code",
   "execution_count": 48,
   "id": "5ba11afa",
   "metadata": {},
   "outputs": [
    {
     "name": "stdout",
     "output_type": "stream",
     "text": [
      "(1029, 4)\n",
      "(343, 4)\n",
      "(1029,)\n",
      "(343,)\n"
     ]
    }
   ],
   "source": [
    "print(X_train.shape)\n",
    "print(X_test.shape)\n",
    "print(y_train.shape)\n",
    "print(y_test.shape)"
   ]
  },
  {
   "cell_type": "code",
   "execution_count": 49,
   "id": "efbf19d1",
   "metadata": {},
   "outputs": [],
   "source": [
    "#Нейронная сеть\n",
    "n_features = X.shape[1] #размерность x"
   ]
  },
  {
   "cell_type": "code",
   "execution_count": 50,
   "id": "f2aaa516",
   "metadata": {},
   "outputs": [
    {
     "name": "stdout",
     "output_type": "stream",
     "text": [
      "Epoch 1/20\n",
      "33/33 [==============================] - 6s 31ms/step - loss: 0.5904 - val_loss: 0.3470\n",
      "Epoch 2/20\n",
      "33/33 [==============================] - 0s 12ms/step - loss: 0.2726 - val_loss: 0.2011\n",
      "Epoch 3/20\n",
      "33/33 [==============================] - 0s 13ms/step - loss: 0.1693 - val_loss: 0.1290\n",
      "Epoch 4/20\n",
      "33/33 [==============================] - 0s 13ms/step - loss: 0.1178 - val_loss: 0.0927\n",
      "Epoch 5/20\n",
      "33/33 [==============================] - 0s 12ms/step - loss: 0.0890 - val_loss: 0.0729\n",
      "Epoch 6/20\n",
      "33/33 [==============================] - 0s 13ms/step - loss: 0.0700 - val_loss: 0.0574\n",
      "Epoch 7/20\n",
      "33/33 [==============================] - 0s 11ms/step - loss: 0.0566 - val_loss: 0.0470\n",
      "Epoch 8/20\n",
      "33/33 [==============================] - 0s 11ms/step - loss: 0.0469 - val_loss: 0.0391\n",
      "Epoch 9/20\n",
      "33/33 [==============================] - 0s 13ms/step - loss: 0.0391 - val_loss: 0.0328\n",
      "Epoch 10/20\n",
      "33/33 [==============================] - 0s 13ms/step - loss: 0.0332 - val_loss: 0.0280\n",
      "Epoch 11/20\n",
      "33/33 [==============================] - 0s 12ms/step - loss: 0.0283 - val_loss: 0.0237\n",
      "Epoch 12/20\n",
      "33/33 [==============================] - 0s 12ms/step - loss: 0.0246 - val_loss: 0.0204\n",
      "Epoch 13/20\n",
      "33/33 [==============================] - 0s 12ms/step - loss: 0.0214 - val_loss: 0.0180\n",
      "Epoch 14/20\n",
      "33/33 [==============================] - 0s 12ms/step - loss: 0.0188 - val_loss: 0.0158\n",
      "Epoch 15/20\n",
      "33/33 [==============================] - 0s 13ms/step - loss: 0.0166 - val_loss: 0.0140\n",
      "Epoch 16/20\n",
      "33/33 [==============================] - 0s 14ms/step - loss: 0.0148 - val_loss: 0.0121\n",
      "Epoch 17/20\n",
      "33/33 [==============================] - 0s 12ms/step - loss: 0.0132 - val_loss: 0.0109\n",
      "Epoch 18/20\n",
      "33/33 [==============================] - 0s 13ms/step - loss: 0.0118 - val_loss: 0.0098\n",
      "Epoch 19/20\n",
      "33/33 [==============================] - 0s 13ms/step - loss: 0.0105 - val_loss: 0.0087\n",
      "Epoch 20/20\n",
      "33/33 [==============================] - 0s 12ms/step - loss: 0.0095 - val_loss: 0.0079\n"
     ]
    },
    {
     "ename": "AttributeError",
     "evalue": "'Sequential' object has no attribute 'predict_classes'",
     "output_type": "error",
     "traceback": [
      "\u001b[1;31m---------------------------------------------------------------------------\u001b[0m",
      "\u001b[1;31mAttributeError\u001b[0m                            Traceback (most recent call last)",
      "Cell \u001b[1;32mIn[50], line 16\u001b[0m\n\u001b[0;32m     10\u001b[0m history \u001b[38;5;241m=\u001b[39m model\u001b[38;5;241m.\u001b[39mfit(X_train, y_train,\n\u001b[0;32m     11\u001b[0m                     epochs \u001b[38;5;241m=\u001b[39m \u001b[38;5;241m20\u001b[39m,\n\u001b[0;32m     12\u001b[0m                     batch_size \u001b[38;5;241m=\u001b[39m \u001b[38;5;241m32\u001b[39m,\n\u001b[0;32m     13\u001b[0m                     verbose \u001b[38;5;241m=\u001b[39m \u001b[38;5;241m1\u001b[39m,\n\u001b[0;32m     14\u001b[0m                     validation_data \u001b[38;5;241m=\u001b[39m (X_test, y_test))\n\u001b[0;32m     15\u001b[0m \u001b[38;5;66;03m#predict test_set \u001b[39;00m\n\u001b[1;32m---> 16\u001b[0m yhat \u001b[38;5;241m=\u001b[39m \u001b[43mmodel\u001b[49m\u001b[38;5;241;43m.\u001b[39;49m\u001b[43mpredict_classes\u001b[49m(X_test)\n\u001b[0;32m     18\u001b[0m \u001b[38;5;66;03m#валидируем наш прогноз\u001b[39;00m\n\u001b[0;32m     19\u001b[0m score \u001b[38;5;241m=\u001b[39m accuracy_score(y_test, yhat)\n",
      "\u001b[1;31mAttributeError\u001b[0m: 'Sequential' object has no attribute 'predict_classes'"
     ]
    }
   ],
   "source": [
    "model = Sequential()\n",
    "\n",
    "model.add(Dense(20, activation = 'relu', input_shape =(n_features,) ))\n",
    "model.add(Dense(10, activation = 'relu'))\n",
    "#выходной слой\n",
    "model.add(Dense(1, activation = 'sigmoid'))\n",
    "# компилируем модель\n",
    "model.compile(optimizer ='adam', loss ='binary_crossentropy')\n",
    "#обучение модели\n",
    "history = model.fit(X_train, y_train,\n",
    "                    epochs = 20,\n",
    "                    batch_size = 32,\n",
    "                    verbose = 1,\n",
    "                    validation_data = (X_test, y_test))\n",
    "#predict test_set \n",
    "yhat = model.predict_classes(X_test)\n",
    "\n",
    "#валидируем наш прогноз\n",
    "score = accuracy_score(y_test, yhat)\n",
    "\n",
    "print('Accuracy:', score)\n",
    "\n",
    "#визуализация процесса обучения\n",
    "pyplot.title('Обучение')\n",
    "pyplot.xlabel('epochs')\n",
    "pyplot.ylabel('Cross_entropy')\n",
    "pyplot.plot(history.history['loss'], label ='train')\n",
    "pyplot.plot(history.history['val_loss'], label ='val')\n",
    "pyplot.legend()\n",
    "pyplot.show()"
   ]
  },
  {
   "cell_type": "code",
   "execution_count": null,
   "id": "ded8c485",
   "metadata": {},
   "outputs": [],
   "source": [
    "#cross_val\n",
    "from sklearn.model_selection import StratifiedKFold\n",
    "kfold = StratifiedKFold(10)\n",
    "score = [] #пустой список для метрик\n",
    "for train_ix, test_ix in kfold.split(X,y):\n",
    "  X_train, X_test, y_train, y_test = X[train_ix], X[test_ix], y[train_ix], y[test_ix]\n",
    "  n_features = X.shape[1] #размерность x  \n",
    "  model = Sequential()\n",
    "  model.add(Dense(20, activation = 'relu', input_shape =(n_features,) ))\n",
    "  model.add(Dense(10, activation = 'relu'))\n",
    "  #выходной слой\n",
    "  model.add(Dense(1, activation = 'sigmoid'))\n",
    "  # компилируем модель\n",
    "  model.compile(optimizer ='adam', loss ='binary_crossentropy')\n",
    "  #обучение модели\n",
    "  history = model.fit(X_train, y_train,\n",
    "                      epochs = 20,\n",
    "                      batch_size = 32,\n",
    "                      verbose = 1,\n",
    "                      validation_data = (X_test, y_test))\n",
    "\n",
    "\n",
    "    \n",
    "  #predict test_set \n",
    "  yhat = model.predict_classes(X_test)\n",
    "\n",
    "  #валидируем наш прогноз\n",
    "  score = accuracy_score(y_test, yhat)\n",
    "\n",
    "  print('Accuracy:', score)\n",
    "\n",
    "  #визуализация процесса обучения\n",
    "  pyplot.title('Обучение')\n",
    "  pyplot.xlabel('epochs')\n",
    "  pyplot.ylabel('Cross_entropy')\n",
    "  pyplot.plot(history.history['loss'], label ='train')\n",
    "  pyplot.plot(history.history['val_loss'], label ='val')\n",
    "  pyplot.legend()\n",
    "  pyplot.show()\n",
    "\n",
    "  scores.append(score)\n",
    "    \n",
    "ptrint('Средняя точност при Cross_val:',(np.mean(scores)))    \n",
    "    "
   ]
  },
  {
   "cell_type": "code",
   "execution_count": null,
   "id": "97f4ebc7",
   "metadata": {},
   "outputs": [],
   "source": [
    "#множественная классификация\n",
    "import pandas as pd\n",
    "import numpy as np\n",
    "import scipy\n",
    "\n",
    "#sklearn\n",
    "from sklearn.model_selection import train_test_split\n",
    "from sklearn.preprocessing import LabelEncoder\n",
    "from sklearn.metrics import accuracy_score\n",
    "#глубокое обучение\n",
    "from tensorflow.keras import Sequential\n",
    "from tensorflow.keras.layers import Dense, Dropout\n",
    "from tensorflow.keras import utils\n",
    "import matplotlib.pyplot as plt\n",
    "#from tensorflow.python.keras.optimizers import Adam, RMSprop\n",
    "from sklearn.model_selection import StratifiedKFold\n",
    "from tensorflow.keras.datasets import mnist\n",
    "from tensorflow.keras.preprocessing import image\n",
    "from PIL import Image\n",
    "%matplotlib inline\n"
   ]
  },
  {
   "cell_type": "code",
   "execution_count": null,
   "id": "65639fbd",
   "metadata": {
    "scrolled": true
   },
   "outputs": [],
   "source": [
    "# подготовка данных для обучения \n",
    "# загружаем данные из датасета мнист\n",
    "(x_train_org, y_train_org),(x_test_org, y_test_org) = mnist.load_data()"
   ]
  },
  {
   "cell_type": "code",
   "execution_count": null,
   "id": "35776967",
   "metadata": {},
   "outputs": [],
   "source": [
    "# смотрим случайное изображение\n",
    "plt.imshow(Image.fromarray(x_test_org[888]).convert('RGBA'))"
   ]
  },
  {
   "cell_type": "code",
   "execution_count": 51,
   "id": "c36dd39d",
   "metadata": {},
   "outputs": [],
   "source": [
    "# преобразование данных в вектор\n",
    "x_train = x_train_org.reshape(60000, 784)\n",
    "x_test = x_test_org.reshape(10000, 784)"
   ]
  },
  {
   "cell_type": "code",
   "execution_count": 52,
   "id": "17c3fbbf",
   "metadata": {},
   "outputs": [],
   "source": [
    "# нормолизация данных\n",
    "x_train = x_train.astype('float32')\n",
    "x_train = x_train / 255\n",
    "\n",
    "x_test = x_test.astype('float32')\n",
    "x_test = x_test / 255"
   ]
  },
  {
   "cell_type": "code",
   "execution_count": 53,
   "id": "0f6c6a77",
   "metadata": {},
   "outputs": [],
   "source": [
    "# OHE\n",
    "y_train = utils.to_categorical(y_train_org, 10)\n",
    "y_test = utils.to_categorical(y_test_org, 10)"
   ]
  },
  {
   "cell_type": "code",
   "execution_count": 54,
   "id": "9b490ad8",
   "metadata": {},
   "outputs": [
    {
     "name": "stdout",
     "output_type": "stream",
     "text": [
      "[0. 0. 1. 0. 0. 0. 0. 0. 0. 0.]\n"
     ]
    }
   ],
   "source": [
    "print(y_test[888])"
   ]
  },
  {
   "cell_type": "code",
   "execution_count": 59,
   "id": "f83f0727",
   "metadata": {},
   "outputs": [
    {
     "name": "stdout",
     "output_type": "stream",
     "text": [
      "Epoch 1/30\n",
      "120/120 [==============================] - 16s 108ms/step - loss: 0.4147 - accuracy: 0.8823 - val_loss: 0.1897 - val_accuracy: 0.9465\n",
      "Epoch 2/30\n",
      "120/120 [==============================] - 14s 114ms/step - loss: 0.1528 - accuracy: 0.9550 - val_loss: 0.1047 - val_accuracy: 0.9712\n",
      "Epoch 3/30\n",
      "120/120 [==============================] - 12s 101ms/step - loss: 0.0981 - accuracy: 0.9708 - val_loss: 0.0706 - val_accuracy: 0.9795\n",
      "Epoch 4/30\n",
      "120/120 [==============================] - 13s 105ms/step - loss: 0.0666 - accuracy: 0.9805 - val_loss: 0.0423 - val_accuracy: 0.9893\n",
      "Epoch 5/30\n",
      "120/120 [==============================] - 12s 104ms/step - loss: 0.0442 - accuracy: 0.9874 - val_loss: 0.0317 - val_accuracy: 0.9924\n",
      "Epoch 6/30\n",
      "120/120 [==============================] - 12s 101ms/step - loss: 0.0320 - accuracy: 0.9915 - val_loss: 0.0175 - val_accuracy: 0.9967\n",
      "Epoch 7/30\n",
      "120/120 [==============================] - 13s 105ms/step - loss: 0.0227 - accuracy: 0.9931 - val_loss: 0.0149 - val_accuracy: 0.9968\n",
      "Epoch 8/30\n",
      "120/120 [==============================] - 12s 101ms/step - loss: 0.0146 - accuracy: 0.9963 - val_loss: 0.0102 - val_accuracy: 0.9982\n",
      "Epoch 9/30\n",
      "120/120 [==============================] - 15s 128ms/step - loss: 0.0098 - accuracy: 0.9979 - val_loss: 0.0079 - val_accuracy: 0.9988\n",
      "Epoch 10/30\n",
      "120/120 [==============================] - 13s 112ms/step - loss: 0.0075 - accuracy: 0.9987 - val_loss: 0.0052 - val_accuracy: 0.9994\n",
      "Epoch 11/30\n",
      "120/120 [==============================] - 14s 120ms/step - loss: 0.0043 - accuracy: 0.9996 - val_loss: 0.0027 - val_accuracy: 1.0000\n",
      "Epoch 12/30\n",
      "120/120 [==============================] - 12s 101ms/step - loss: 0.0037 - accuracy: 0.9995 - val_loss: 0.0035 - val_accuracy: 0.9995\n",
      "Epoch 13/30\n",
      "120/120 [==============================] - 12s 101ms/step - loss: 0.0037 - accuracy: 0.9995 - val_loss: 0.0032 - val_accuracy: 0.9996\n",
      "Epoch 14/30\n",
      "120/120 [==============================] - 13s 111ms/step - loss: 0.0016 - accuracy: 1.0000 - val_loss: 0.0011 - val_accuracy: 1.0000\n",
      "Epoch 15/30\n",
      "120/120 [==============================] - 12s 102ms/step - loss: 9.7502e-04 - accuracy: 1.0000 - val_loss: 7.4092e-04 - val_accuracy: 1.0000\n",
      "Epoch 16/30\n",
      "120/120 [==============================] - 12s 101ms/step - loss: 7.7031e-04 - accuracy: 1.0000 - val_loss: 6.1397e-04 - val_accuracy: 1.0000\n",
      "Epoch 17/30\n",
      "120/120 [==============================] - 13s 107ms/step - loss: 5.9567e-04 - accuracy: 1.0000 - val_loss: 5.2133e-04 - val_accuracy: 1.0000\n",
      "Epoch 18/30\n",
      "120/120 [==============================] - 12s 100ms/step - loss: 5.1205e-04 - accuracy: 1.0000 - val_loss: 4.2942e-04 - val_accuracy: 1.0000\n",
      "Epoch 19/30\n",
      "120/120 [==============================] - 16s 134ms/step - loss: 4.3834e-04 - accuracy: 1.0000 - val_loss: 3.8435e-04 - val_accuracy: 1.0000\n",
      "Epoch 20/30\n",
      "120/120 [==============================] - 15s 123ms/step - loss: 3.9109e-04 - accuracy: 1.0000 - val_loss: 3.2641e-04 - val_accuracy: 1.0000\n",
      "Epoch 21/30\n",
      "120/120 [==============================] - 12s 104ms/step - loss: 3.4560e-04 - accuracy: 1.0000 - val_loss: 2.9732e-04 - val_accuracy: 1.0000\n",
      "Epoch 22/30\n",
      "120/120 [==============================] - 12s 104ms/step - loss: 3.0628e-04 - accuracy: 1.0000 - val_loss: 2.6506e-04 - val_accuracy: 1.0000\n",
      "Epoch 23/30\n",
      "120/120 [==============================] - 13s 106ms/step - loss: 2.7176e-04 - accuracy: 1.0000 - val_loss: 2.4324e-04 - val_accuracy: 1.0000\n",
      "Epoch 24/30\n",
      "120/120 [==============================] - 13s 110ms/step - loss: 2.4365e-04 - accuracy: 1.0000 - val_loss: 2.1475e-04 - val_accuracy: 1.0000\n",
      "Epoch 25/30\n",
      "120/120 [==============================] - 12s 100ms/step - loss: 2.1864e-04 - accuracy: 1.0000 - val_loss: 1.8926e-04 - val_accuracy: 1.0000\n",
      "Epoch 26/30\n",
      "120/120 [==============================] - 13s 110ms/step - loss: 1.9785e-04 - accuracy: 1.0000 - val_loss: 1.7552e-04 - val_accuracy: 1.0000\n",
      "Epoch 27/30\n",
      "120/120 [==============================] - 13s 107ms/step - loss: 1.7798e-04 - accuracy: 1.0000 - val_loss: 1.5593e-04 - val_accuracy: 1.0000\n",
      "Epoch 28/30\n",
      "120/120 [==============================] - 12s 97ms/step - loss: 1.6112e-04 - accuracy: 1.0000 - val_loss: 1.4761e-04 - val_accuracy: 1.0000\n",
      "Epoch 29/30\n",
      "120/120 [==============================] - 13s 106ms/step - loss: 1.4836e-04 - accuracy: 1.0000 - val_loss: 1.3205e-04 - val_accuracy: 1.0000\n",
      "Epoch 30/30\n",
      "120/120 [==============================] - 12s 104ms/step - loss: 1.3344e-04 - accuracy: 1.0000 - val_loss: 1.1827e-04 - val_accuracy: 1.0000\n"
     ]
    },
    {
     "data": {
      "image/png": "[encoded data removed]",
      "text/plain": [
       "<Figure size 640x480 with 1 Axes>"
      ]
     },
     "metadata": {},
     "output_type": "display_data"
    }
   ],
   "source": [
    "# нейронная сеть для множественной класификации\n",
    "# модель НС\n",
    "model = Sequential()\n",
    "\n",
    "# входной полносвязный слой\n",
    "model.add(Dense(400, input_dim = 784, activation = 'relu'))\n",
    "model.add(Dropout (0,2))\n",
    "model.add(Dense(200, activation = 'relu'))\n",
    "model.add(Dropout (0,2))\n",
    "model.add(Dense(10, activation = 'softmax'))\n",
    "\n",
    "model.compile(loss = 'categorical_crossentropy', optimizer = 'adam', metrics =[\"accuracy\"])\n",
    "\n",
    "n = 30000\n",
    "\n",
    "history = model.fit(x_train[:n],\n",
    "                    y_train[:n],\n",
    "                    batch_size = 250,\n",
    "                    epochs = 30,\n",
    "                    validation_data = (x_train[:n], y_train[:n]),\n",
    "                    verbose = 1)\n",
    "plt.plot(history.history['accuracy'],\n",
    "         label = 'Точность train')\n",
    "plt.plot(history.history['val_accuracy'],\n",
    "         label = 'Точность test')\n",
    "plt.xlabel(\"эпоха\")\n",
    "plt.ylabel(\"точност\")\n",
    "plt.legend()\n",
    "plt.show()"
   ]
  },
  {
   "cell_type": "code",
   "execution_count": 64,
   "id": "a441006d",
   "metadata": {},
   "outputs": [],
   "source": [
    "# сверточная нейронная сеть\n",
    "import pandas as pd\n",
    "import numpy as np\n",
    "import scipy\n",
    "\n",
    "#sklearn\n",
    "from sklearn.model_selection import train_test_split\n",
    "from sklearn.preprocessing import LabelEncoder\n",
    "from sklearn.metrics import accuracy_score\n",
    "#глубокое обучение\n",
    "from tensorflow.keras import Sequential\n",
    "from tensorflow.keras.layers import Dense, Dropout, Conv2D, MaxPooling2D, Flatten, BatchNormalization, GlobalAveragePooling2D\n",
    "from tensorflow.keras import utils\n",
    "import matplotlib.pyplot as plt\n",
    "#from tensorflow.python.keras.optimizers import Adam, RMSprop\n",
    "from sklearn.model_selection import StratifiedKFold\n",
    "from tensorflow.keras.datasets import mnist\n",
    "from tensorflow.keras.preprocessing import image\n",
    "from PIL import Image\n",
    "%matplotlib inline"
   ]
  },
  {
   "cell_type": "code",
   "execution_count": 65,
   "id": "db289f8a",
   "metadata": {},
   "outputs": [],
   "source": [
    "# загружаем данные из датасета мнист\n",
    "(x_train_org, y_train_org),(x_test_org, y_test_org) = mnist.load_data()\n"
   ]
  },
  {
   "cell_type": "code",
   "execution_count": 66,
   "id": "0ede1dcb",
   "metadata": {},
   "outputs": [],
   "source": [
    "# OHE\n",
    "y_train = utils.to_categorical(y_train_org, 10)\n",
    "y_train[10]\n",
    "# преобразование данных\n",
    "x_train = x_train_org.reshape(x_train_org.shape[0],28, 28, 1)\n",
    "x_test = x_test_org.reshape(x_test_org.shape[0],28, 28, 1)"
   ]
  },
  {
   "cell_type": "code",
   "execution_count": 69,
   "id": "039d174b",
   "metadata": {},
   "outputs": [
    {
     "name": "stdout",
     "output_type": "stream",
     "text": [
      "Epoch 1/30\n",
      "120/120 [==============================] - 62s 486ms/step - loss: 2.4206 - accuracy: 0.8400 - val_loss: 0.2469 - val_accuracy: 0.9320\n",
      "Epoch 2/30\n",
      "120/120 [==============================] - 59s 491ms/step - loss: 0.1990 - accuracy: 0.9466 - val_loss: 0.1172 - val_accuracy: 0.9648\n",
      "Epoch 3/30\n",
      "120/120 [==============================] - 63s 525ms/step - loss: 0.1087 - accuracy: 0.9683 - val_loss: 0.0722 - val_accuracy: 0.9773\n",
      "Epoch 4/30\n",
      "120/120 [==============================] - 62s 515ms/step - loss: 0.0666 - accuracy: 0.9799 - val_loss: 0.0488 - val_accuracy: 0.9846\n",
      "Epoch 5/30\n",
      "120/120 [==============================] - 58s 483ms/step - loss: 0.0407 - accuracy: 0.9872 - val_loss: 0.0326 - val_accuracy: 0.9892\n",
      "Epoch 6/30\n",
      "120/120 [==============================] - 62s 516ms/step - loss: 0.0299 - accuracy: 0.9902 - val_loss: 0.0196 - val_accuracy: 0.9936\n",
      "Epoch 7/30\n",
      "120/120 [==============================] - 57s 480ms/step - loss: 0.0213 - accuracy: 0.9934 - val_loss: 0.0188 - val_accuracy: 0.9939\n",
      "Epoch 8/30\n",
      "120/120 [==============================] - 59s 491ms/step - loss: 0.0174 - accuracy: 0.9943 - val_loss: 0.0098 - val_accuracy: 0.9967\n",
      "Epoch 9/30\n",
      "120/120 [==============================] - 60s 504ms/step - loss: 0.0117 - accuracy: 0.9959 - val_loss: 0.0058 - val_accuracy: 0.9983\n",
      "Epoch 10/30\n",
      "120/120 [==============================] - 63s 529ms/step - loss: 0.0074 - accuracy: 0.9977 - val_loss: 0.0036 - val_accuracy: 0.9992\n",
      "Epoch 11/30\n",
      "120/120 [==============================] - 58s 483ms/step - loss: 0.0068 - accuracy: 0.9976 - val_loss: 0.0055 - val_accuracy: 0.9984\n",
      "Epoch 12/30\n",
      "120/120 [==============================] - 57s 476ms/step - loss: 0.0081 - accuracy: 0.9970 - val_loss: 0.0056 - val_accuracy: 0.9980\n",
      "Epoch 13/30\n",
      "120/120 [==============================] - 56s 464ms/step - loss: 0.0078 - accuracy: 0.9971 - val_loss: 0.0121 - val_accuracy: 0.9960\n",
      "Epoch 14/30\n",
      "120/120 [==============================] - 68s 565ms/step - loss: 0.0067 - accuracy: 0.9977 - val_loss: 0.0091 - val_accuracy: 0.9974\n",
      "Epoch 15/30\n",
      "120/120 [==============================] - 67s 560ms/step - loss: 0.0193 - accuracy: 0.9941 - val_loss: 0.0125 - val_accuracy: 0.9957\n",
      "Epoch 16/30\n",
      "120/120 [==============================] - 61s 512ms/step - loss: 0.0325 - accuracy: 0.9911 - val_loss: 0.0481 - val_accuracy: 0.9873\n",
      "Epoch 17/30\n",
      "120/120 [==============================] - 56s 464ms/step - loss: 0.0243 - accuracy: 0.9925 - val_loss: 0.0144 - val_accuracy: 0.9951\n",
      "Epoch 18/30\n",
      "120/120 [==============================] - 59s 495ms/step - loss: 0.0133 - accuracy: 0.9959 - val_loss: 0.0150 - val_accuracy: 0.9955\n",
      "Epoch 19/30\n",
      "120/120 [==============================] - 59s 491ms/step - loss: 0.0065 - accuracy: 0.9978 - val_loss: 0.0029 - val_accuracy: 0.9990\n",
      "Epoch 20/30\n",
      "120/120 [==============================] - 71s 589ms/step - loss: 0.0022 - accuracy: 0.9994 - val_loss: 0.0014 - val_accuracy: 0.9997\n",
      "Epoch 21/30\n",
      "120/120 [==============================] - 65s 546ms/step - loss: 0.0015 - accuracy: 0.9995 - val_loss: 4.5617e-04 - val_accuracy: 0.9999\n",
      "Epoch 22/30\n",
      "120/120 [==============================] - 71s 592ms/step - loss: 3.9414e-04 - accuracy: 0.9999 - val_loss: 1.8519e-04 - val_accuracy: 1.0000\n",
      "Epoch 23/30\n",
      "120/120 [==============================] - 62s 519ms/step - loss: 1.5961e-04 - accuracy: 1.0000 - val_loss: 1.2593e-04 - val_accuracy: 1.0000\n",
      "Epoch 24/30\n",
      "120/120 [==============================] - 88s 741ms/step - loss: 1.2422e-04 - accuracy: 1.0000 - val_loss: 1.1202e-04 - val_accuracy: 1.0000\n",
      "Epoch 25/30\n",
      "120/120 [==============================] - 62s 520ms/step - loss: 1.1208e-04 - accuracy: 1.0000 - val_loss: 1.0353e-04 - val_accuracy: 1.0000\n",
      "Epoch 26/30\n",
      "120/120 [==============================] - 68s 569ms/step - loss: 1.0334e-04 - accuracy: 1.0000 - val_loss: 9.6216e-05 - val_accuracy: 1.0000\n",
      "Epoch 27/30\n",
      "120/120 [==============================] - 60s 504ms/step - loss: 9.6227e-05 - accuracy: 1.0000 - val_loss: 9.0188e-05 - val_accuracy: 1.0000\n",
      "Epoch 28/30\n",
      "120/120 [==============================] - 60s 500ms/step - loss: 9.0370e-05 - accuracy: 1.0000 - val_loss: 8.4872e-05 - val_accuracy: 1.0000\n",
      "Epoch 29/30\n",
      "120/120 [==============================] - 58s 484ms/step - loss: 8.5584e-05 - accuracy: 1.0000 - val_loss: 8.0720e-05 - val_accuracy: 1.0000\n",
      "Epoch 30/30\n",
      "120/120 [==============================] - 64s 534ms/step - loss: 8.0747e-05 - accuracy: 1.0000 - val_loss: 7.5913e-05 - val_accuracy: 1.0000\n"
     ]
    },
    {
     "data": {
      "image/png": "[encoded data removed]",
      "text/plain": [
       "<Figure size 640x480 with 1 Axes>"
      ]
     },
     "metadata": {},
     "output_type": "display_data"
    }
   ],
   "source": [
    "model = Sequential()\n",
    "\n",
    "# входной полносвязный слой\n",
    "model.add(Conv2D(32,(3,3), padding = 'same', activation = 'relu', input_shape = (28, 28, 1)))\n",
    "model.add(MaxPooling2D(pool_size = (2,2)))\n",
    "model.add(Flatten())\n",
    "model.add(Dense(100, activation = 'relu'))\n",
    "model.add(Dropout (0,2))\n",
    "model.add(Dense(10, activation = 'softmax'))\n",
    "\n",
    "model.compile(loss = 'categorical_crossentropy', optimizer = 'adam', metrics =[\"accuracy\"])\n",
    "\n",
    "n = 30000\n",
    "\n",
    "history = model.fit(x_train[:n],\n",
    "                    y_train[:n],\n",
    "                    batch_size = 250,\n",
    "                    epochs = 30,\n",
    "                    validation_data = (x_train[:n], y_train[:n]),\n",
    "                    verbose = 1)\n",
    "plt.plot(history.history['accuracy'],\n",
    "         label = 'Точность train')\n",
    "plt.plot(history.history['val_accuracy'],\n",
    "         label = 'Точность test')\n",
    "plt.xlabel(\"эпоха\")\n",
    "plt.ylabel(\"точност\")\n",
    "plt.legend()\n",
    "plt.show()"
   ]
  },
  {
   "cell_type": "code",
   "execution_count": null,
   "id": "b9eac505",
   "metadata": {},
   "outputs": [],
   "source": []
  }
 ],
 "metadata": {
  "kernelspec": {
   "display_name": "Python 3 (ipykernel)",
   "language": "python",
   "name": "python3"
  },
  "language_info": {
   "codemirror_mode": {
    "name": "ipython",
    "version": 3
   },
   "file_extension": ".py",
   "mimetype": "text/x-python",
   "name": "python",
   "nbconvert_exporter": "python",
   "pygments_lexer": "ipython3",
   "version": "3.10.9"
  }
 },
 "nbformat": 4,
 "nbformat_minor": 5
}
